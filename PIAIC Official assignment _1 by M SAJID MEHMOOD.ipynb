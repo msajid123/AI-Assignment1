{
 "cells": [
  {
   "cell_type": "markdown",
   "metadata": {},
   "source": [
    "## 1. Calculate Area of a Circle"
   ]
  },
  {
   "cell_type": "markdown",
   "metadata": {},
   "source": [
    "#### Write a Python program which accepts the radius of a circle from the user and compute the area.\n",
    "###### Program Console Sample Output 1:\n",
    "###### Input Radius: 0.5\n",
    "###### Area of Circle with radius 0.5 is 0.7853981634"
   ]
  },
  {
   "cell_type": "code",
   "execution_count": 1,
   "metadata": {},
   "outputs": [
    {
     "name": "stdout",
     "output_type": "stream",
     "text": [
      "Enter Radiius of  circle :0.5\n",
      "Area of circle is   0.785\n"
     ]
    }
   ],
   "source": [
    "\n",
    "radius=float(input(\"Enter Radiius of  circle :\"))\n",
    "area=(3.14)*(radius**2)\n",
    "print(\"Area of circle is  \",area)"
   ]
  },
  {
   "cell_type": "markdown",
   "metadata": {},
   "source": [
    "## 2. Check Number either positive, negative or zero"
   ]
  },
  {
   "cell_type": "markdown",
   "metadata": {},
   "source": [
    "#### Write a Python program to check if a number is positive, negative or zero\n",
    "###### Program Console Sample Output 1:\n",
    "###### Enter Number: -1\n",
    "##### Negative Number Entered\n",
    "###### Program Console Sample Output 2:\n",
    "##### Integer: 3\n",
    "##### Positive Number Entered\n",
    "###### Program Console Sample Output 3:\n",
    "##### Integer: 0\n",
    "###### Zero Entered"
   ]
  },
  {
   "cell_type": "code",
   "execution_count": 45,
   "metadata": {},
   "outputs": [
    {
     "name": "stdout",
     "output_type": "stream",
     "text": [
      "Enter a number :4\n",
      "positive integer 4\n"
     ]
    }
   ],
   "source": [
    "num=int(input(\"Enter a number :\"))\n",
    "if num<0:\n",
    "    print(\"negative number :\",num)\n",
    "elif num==0:\n",
    "    print(\"integer 0\")\n",
    "elif num>0:\n",
    "    print(\"positive integer\",num)\n",
    "    "
   ]
  },
  {
   "cell_type": "markdown",
   "metadata": {},
   "source": [
    "## 3. Divisibility Check of two numbers"
   ]
  },
  {
   "cell_type": "markdown",
   "metadata": {},
   "source": [
    "#### Write a Python program to check whether a number is completely divisible by another number. Accept two integer values form the user\n",
    "##### Program Console Sample Output 1:\n",
    "###### Enter numerator: 4\n",
    "###### Enter Denominator: 2\n",
    "##### Number 4 is Completely divisible by 2\n",
    "###### Program Console Sample Output 2:\n",
    "##### Enter numerator: 7\n",
    "\n",
    "##### Enter Denominator: 4\n",
    "###### Number 7 is not Completely divisible by 4"
   ]
  },
  {
   "cell_type": "code",
   "execution_count": 38,
   "metadata": {},
   "outputs": [
    {
     "name": "stdout",
     "output_type": "stream",
     "text": [
      "Enter numerator :4\n",
      "Enter denominator :2\n",
      "Number  4 is completly divisible by  2\n"
     ]
    }
   ],
   "source": [
    "numerator=int(input(\"Enter numerator :\"))\n",
    "denominator=int(input(\"Enter denominator :\"))\n",
    "if numerator%denominator==0:\n",
    "    print(\"Number \",numerator,\"is completly divisible by \",denominator)\n",
    "else:\n",
    "    print(\"Number \",numerator,\"is not completly divisible by \",denominator)\n"
   ]
  },
  {
   "cell_type": "code",
   "execution_count": 37,
   "metadata": {},
   "outputs": [
    {
     "name": "stdout",
     "output_type": "stream",
     "text": [
      "Enter numerator :7\n",
      "Enter denominator :4\n",
      "Number  7 is not completly divisible by  4\n"
     ]
    }
   ],
   "source": [
    "numerator=int(input(\"Enter numerator :\"))\n",
    "denominator=int(input(\"Enter denominator :\"))\n",
    "if numerator%denominator==0:\n",
    "    print(\"Number \",numerator,\"is completely divisible by \",denominator)\n",
    "else:\n",
    "    print(\"Number \",numerator,\"is not completely divisible by \",denominator)\n"
   ]
  },
  {
   "cell_type": "markdown",
   "metadata": {},
   "source": [
    "## 4. Calculate Volume of a sphere"
   ]
  },
  {
   "cell_type": "markdown",
   "metadata": {},
   "source": [
    "##### Write a Python program to get the volume of a sphere, please take the radius as input from user"
   ]
  },
  {
   "cell_type": "markdown",
   "metadata": {},
   "source": [
    "##### Program Console Output:\n",
    "##### Enter Radius of Sphere: 1\n",
    "###### Volume of the Sphere with Radius 1 is 4.18"
   ]
  },
  {
   "cell_type": "code",
   "execution_count": 41,
   "metadata": {},
   "outputs": [
    {
     "name": "stdout",
     "output_type": "stream",
     "text": [
      "Enter radius of sphere : 1\n",
      "Volume of sphere with radius 1.0 is 4.19\n"
     ]
    }
   ],
   "source": [
    "sph_rad=float(input(\"Enter radius of sphere : \"))\n",
    "vol=round((4/3)*3.14*(sph_rad**3),2)\n",
    "print(f\"Volume of sphere with radius {sph_rad} is {vol}\")"
   ]
  },
  {
   "cell_type": "markdown",
   "metadata": {},
   "source": [
    "## 5. Copy string n times\n",
    "#### Write a Python program to get a string which is n (non-negative integer) copies of a given string.\n",
    "##### Program Console Output:\n",
    "##### Enter String: Hi\n",
    "###### How many copies of String you need: 4\n",
    "###### 4 Copies of Hi are HiHiHiHi"
   ]
  },
  {
   "cell_type": "code",
   "execution_count": 43,
   "metadata": {},
   "outputs": [
    {
     "name": "stdout",
     "output_type": "stream",
     "text": [
      "Enter a String  Hi\n",
      "How many copies of String you need :7\n",
      "7 Copies of Hi are HiHiHiHiHiHiHi\n"
     ]
    }
   ],
   "source": [
    "strr=input(\"Enter a String  \")\n",
    "copy=int(input(\"How many copies of String you need :\"))\n",
    "print(f\"{copy} Copies of {strr} are {copy*strr}\")"
   ]
  },
  {
   "cell_type": "code",
   "execution_count": 45,
   "metadata": {},
   "outputs": [
    {
     "name": "stdout",
     "output_type": "stream",
     "text": [
      "Enter a String  irfan\n",
      "How many copies of String you need :5\n",
      "5 Copies of irfan are irfanirfanirfanirfanirfan \n"
     ]
    }
   ],
   "source": [
    "strr=input(\"Enter a String  \")\n",
    "copy=int(input(\"How many copies of String you need :\"))\n",
    "print(f\"{copy} Copies of {strr} are {copy*strr} \")"
   ]
  },
  {
   "cell_type": "markdown",
   "metadata": {},
   "source": [
    "## 6. Check if number is Even or Odd\n",
    "### Write a Python program to find whether a given number (accept from the user) is even or odd, print out an appropriate message to the user\n",
    "#### Program Console Output 1:\n",
    "##### Enter Number: 4\n",
    "###### 4 is Even\n",
    "#### Program Console Output 2:\n",
    "##### Enter Number: 9\n",
    "###### 9 is Odd"
   ]
  },
  {
   "cell_type": "code",
   "execution_count": 46,
   "metadata": {
    "scrolled": true
   },
   "outputs": [
    {
     "name": "stdout",
     "output_type": "stream",
     "text": [
      "Enter a number :7\n",
      " 7 is Odd number\n"
     ]
    }
   ],
   "source": [
    "check_num = int(input(\"Enter a number :\"))\n",
    "reminder =check_num % 2\n",
    "\n",
    "if reminder ==0:\n",
    "    print(f\"{check_num} is Even number\")\n",
    "else:\n",
    "    print(f\" {check_num} is Odd number\")\n"
   ]
  },
  {
   "cell_type": "code",
   "execution_count": 48,
   "metadata": {},
   "outputs": [
    {
     "name": "stdout",
     "output_type": "stream",
     "text": [
      "Enter a number :4\n",
      "4 is Even number\n"
     ]
    }
   ],
   "source": [
    "check_num = int(input(\"Enter a number :\"))\n",
    "reminder =check_num % 2\n",
    "\n",
    "if reminder ==0:\n",
    "    print(f\"{check_num} is Even number\")\n",
    "else:\n",
    "    print(f\" {check_num} is Odd number\")\n"
   ]
  },
  {
   "cell_type": "markdown",
   "metadata": {},
   "source": [
    "## 7. Vowel Tester\n",
    "### Write a Python program to test whether a passed letter is a vowel or not\n",
    "#### Program Console Output 1:\n",
    "##### Enter a character: A\n",
    "###### Letter A is Vowel\n",
    "#### Program Console Output 2:\n",
    "##### Enter a character: e\n",
    "###### Letter e is Vowel\n",
    "#### Program Console Output 2:\n",
    "##### Enter a character: N\n",
    "###### Letter N is not Vowel"
   ]
  },
  {
   "cell_type": "code",
   "execution_count": 47,
   "metadata": {},
   "outputs": [
    {
     "name": "stdout",
     "output_type": "stream",
     "text": [
      "Enter a character :L\n",
      "letter L is not Vowel\n"
     ]
    }
   ],
   "source": [
    "vowel=input(\"Enter a character :\")\n",
    "vow=vowel.lower()\n",
    "if(vow==\"a\" or vow==\"e\"or vow==\"i\" or vow==\"o\"or vow==\"u\"):\n",
    "    print(f\"letter {vowel} is  Vowel\")\n",
    "else:\n",
    "    print(f\"letter {vowel} is not Vowel\")\n",
    "    "
   ]
  },
  {
   "cell_type": "code",
   "execution_count": 69,
   "metadata": {},
   "outputs": [
    {
     "name": "stdout",
     "output_type": "stream",
     "text": [
      "Enter a character :N\n",
      "letter N is not Vowel\n"
     ]
    }
   ],
   "source": [
    "vowel=input(\"Enter a character :\")\n",
    "vow=vowel.lower()\n",
    "if(vow==\"a\" or vow==\"e\"or vow==\"i\" or vow==\"o\"or vow==\"u\"):\n",
    "    print(f\"letter {vowel} is  Vowel\")\n",
    "else:\n",
    "    print(f\"letter {vowel} is not Vowel\")\n",
    "    "
   ]
  },
  {
   "cell_type": "code",
   "execution_count": 70,
   "metadata": {},
   "outputs": [
    {
     "name": "stdout",
     "output_type": "stream",
     "text": [
      "Enter a character :E\n",
      "letter E is  Vowel\n"
     ]
    }
   ],
   "source": [
    "vowel=input(\"Enter a character :\")\n",
    "vow=vowel.lower()\n",
    "if(vow==\"a\" or vow==\"e\"or vow==\"i\" or vow==\"o\"or vow==\"u\"):\n",
    "    print(f\"letter {vowel} is  Vowel\")\n",
    "else:\n",
    "    print(f\"letter {vowel} is not Vowel\")\n",
    "    "
   ]
  },
  {
   "cell_type": "code",
   "execution_count": 71,
   "metadata": {},
   "outputs": [
    {
     "name": "stdout",
     "output_type": "stream",
     "text": [
      "Enter a character :o\n",
      "letter o is  Vowel\n"
     ]
    }
   ],
   "source": [
    "vowel=input(\"Enter a character :\")\n",
    "vow=vowel.lower()\n",
    "if(vow==\"a\" or vow==\"e\"or vow==\"i\" or vow==\"o\"or vow==\"u\"):\n",
    "    print(f\"letter {vowel} is  Vowel\")\n",
    "else:\n",
    "    print(f\"letter {vowel} is not Vowel\")\n",
    "    "
   ]
  },
  {
   "cell_type": "markdown",
   "metadata": {},
   "source": [
    "## 8. Triangle area\n",
    "### Write a Python program that will accept the base and height of a triangle and compute the area\n",
    "###### Reference:\n",
    "https://www.mathgoodies.com/lessons/vol1/area_triangle"
   ]
  },
  {
   "cell_type": "code",
   "execution_count": 77,
   "metadata": {},
   "outputs": [
    {
     "name": "stdout",
     "output_type": "stream",
     "text": [
      "Enter base value  :3.5\n",
      "Enter height value:1.2\n",
      "Area of triangle is  2.1 \n"
     ]
    }
   ],
   "source": [
    "base=float(input(\"Enter base value  :\"))\n",
    "height=float(input(\"Enter height value:\"))\n",
    "area_tri=round((1/2)*base*height,2)\n",
    "print(f\"Area of triangle is  {area_tri} \")\n"
   ]
  },
  {
   "cell_type": "markdown",
   "metadata": {},
   "source": [
    "## 9. Calculate Interest\n",
    "### Write a Python program to compute the future value of a specified principal amount, rate of interest, and a number of years\n",
    "#### Program Console Sample 1:\n",
    "##### Please enter principal amount: 10000\n",
    "###### Please Enter Rate of interest in %: 0.1\n",
    "###### Enter number of years for investment: 5\n",
    "###### After 5 years your principal amount 10000 over an interest rate of 0.1 % will be 16105.1"
   ]
  },
  {
   "cell_type": "code",
   "execution_count": 2,
   "metadata": {},
   "outputs": [
    {
     "name": "stdout",
     "output_type": "stream",
     "text": [
      "Please Enter Principal Amount :10000\n",
      "Please Enter interest Amount :0.1\n",
      "Please Enter year of invesment :5\n",
      "\n",
      "After 5 years your principal amount 10000 over an interst rate of 0.1 will be 16105.1\n"
     ]
    }
   ],
   "source": [
    "pr_amnt=int(input(\"Please Enter Principal Amount :\"))\n",
    "rate_amnt=float(input(\"Please Enter interest Amount :\"))\n",
    "year=int(input(\"Please Enter year of invesment :\"))\n",
    "interest=round(pr_amnt *(1+rate_amnt)**year,1)\n",
    "print(\"\")\n",
    "print(f\"After {year} years your principal amount {pr_amnt} over an interst rate of {rate_amnt} will be {interest}\")\n",
    "\n"
   ]
  },
  {
   "cell_type": "markdown",
   "metadata": {},
   "source": [
    "## 10. Euclidean distance\n",
    "### write a Python program to compute the distance between the points (x1, y1) and (x2, y2).\n",
    "#### Program Console Sample 1:\n",
    "###### Enter Co-ordinate for x1: 2\n",
    "###### Enter Co-ordinate for x2: 4\n",
    "###### Enter Co-ordinate for y1: 4\n",
    "###### Enter Co-ordinate for y2: 4\n",
    "###### Distance between points (2, 4) and (4, 4) is 2"
   ]
  },
  {
   "cell_type": "markdown",
   "metadata": {},
   "source": [
    "###### Reference:\n",
    "https://en.wikipedia.org/wiki/Euclidean_distance"
   ]
  },
  {
   "cell_type": "code",
   "execution_count": 6,
   "metadata": {},
   "outputs": [
    {
     "name": "stdout",
     "output_type": "stream",
     "text": [
      "Enter Co-ordinate for x1 :2\n",
      "Enter Co-ordinate for x2 :4\n",
      "Enter Co-ordinate for y1 :4\n",
      "Enter Co-ordinate for y2 :4\n",
      "Distance between points (2,4) and (4,4) is  2\n"
     ]
    }
   ],
   "source": [
    "import math \n",
    "x1=int(input(\"Enter Co-ordinate for x1 :\"))\n",
    "x2=int(input(\"Enter Co-ordinate for x2 :\"))\n",
    "y1=int(input(\"Enter Co-ordinate for y1 :\"))\n",
    "y2=int(input(\"Enter Co-ordinate for y2 :\"))\n",
    "euc_dist=round(math.sqrt((x2-x1)**2+(y2-y1)**2))\n",
    "\n",
    "print(f\"Distance between points ({x1},{x2}) and ({y1},{y2}) is  {euc_dist}\")"
   ]
  },
  {
   "cell_type": "markdown",
   "metadata": {},
   "source": [
    "## 11. Feet to Centimeter Converter\n",
    "### Write a Python program to convert height in feet to centimetres.\n",
    "##### Program Console Sample 1:\n",
    "###### Enter Height in Feet: 5\n",
    "###### There are 152.4 Cm in 5 ft\n",
    "###### Reference:\n",
    "https://www.rapidtables.com/convert/length/feet-to-cm.html"
   ]
  },
  {
   "cell_type": "code",
   "execution_count": 31,
   "metadata": {},
   "outputs": [
    {
     "name": "stdout",
     "output_type": "stream",
     "text": [
      "Enter Hight in feer :5\n",
      "there are 152.4 Cm in 5 ft\n"
     ]
    }
   ],
   "source": [
    "height=int(input(\"Enter Hight in feer :\"))\n",
    "cm=round(height/0.032808,1)\n",
    "print(f\"there are {cm} Cm in {height} ft\")"
   ]
  },
  {
   "cell_type": "markdown",
   "metadata": {},
   "source": [
    "## 12. BMI Calculator\n",
    "### Write a Python program to calculate body mass index\n",
    "##### Program Console Sample 1:\n",
    "###### Enter Height in Cm: 180\n",
    "###### Enter Weight in Kg: 75\n",
    "###### Your BMI is 23.15"
   ]
  },
  {
   "cell_type": "code",
   "execution_count": 41,
   "metadata": {},
   "outputs": [
    {
     "name": "stdout",
     "output_type": "stream",
     "text": [
      "Enter hieght in Cm :180\n",
      "Enter weight in kg :75\n",
      "Your BMI is 23.15\n"
     ]
    }
   ],
   "source": [
    "hght_cm=int(input(\"Enter hieght in Cm :\"))\n",
    "wght_kg=int(input(\"Enter weight in kg :\"))\n",
    "hght_m=hght_cm/100\n",
    "bmi=round(wght_kg/(hght_m)**2,2)\n",
    "print(\"Your BMI is \"+str(bmi)+\"\")"
   ]
  },
  {
   "cell_type": "markdown",
   "metadata": {},
   "source": [
    "## 13. Sum of n Positive Integers\n",
    "### Write a python program to sum of the first n positive integers\n",
    "#### Program Console Sample 1:\n",
    "###### Enter value of n: 5\n",
    "###### Sum of n Positive integers till 5 is 15"
   ]
  },
  {
   "cell_type": "code",
   "execution_count": 18,
   "metadata": {},
   "outputs": [
    {
     "name": "stdout",
     "output_type": "stream",
     "text": [
      "Enter value of n :1000\n",
      "Sum of n positive integers till 1000is  500500\n"
     ]
    }
   ],
   "source": [
    "n=int(input(\"Enter value of n :\"))\n",
    "sum_int = round((n*(n+1))/2)\n",
    "\n",
    "print(f\"Sum of n positive integers till {n}is  {sum_int}\")"
   ]
  },
  {
   "cell_type": "markdown",
   "metadata": {},
   "source": [
    "## 14. Digits Sum of a Number\n",
    "### Write a Python program to calculate the sum of the digits in an integer\n",
    "#### Program Console Sample 1:\n",
    "##### Enter a number: 15\n",
    "###### Sum of 1 + 5 is 6\n",
    "#### Program Console Sample 2:\n",
    "##### Enter a number: 1234\n",
    "###### Sum of 1 + 2 + 3 + 4 is 10"
   ]
  },
  {
   "cell_type": "code",
   "execution_count": 24,
   "metadata": {},
   "outputs": [
    {
     "name": "stdout",
     "output_type": "stream",
     "text": [
      "input number1234\n",
      "10\n"
     ]
    }
   ],
   "source": [
    "a=input(\"input number\")\n",
    "a=list(a)\n",
    "b=0\n",
    "for x in a:\n",
    "    b=b+int(x)\n",
    "print(b)\n"
   ]
  }
 ],
 "metadata": {
  "kernelspec": {
   "display_name": "Python 3",
   "language": "python",
   "name": "python3"
  },
  "language_info": {
   "codemirror_mode": {
    "name": "ipython",
    "version": 3
   },
   "file_extension": ".py",
   "mimetype": "text/x-python",
   "name": "python",
   "nbconvert_exporter": "python",
   "pygments_lexer": "ipython3",
   "version": "3.7.1"
  }
 },
 "nbformat": 4,
 "nbformat_minor": 2
}
